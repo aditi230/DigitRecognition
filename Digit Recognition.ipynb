{
 "cells": [
  {
   "cell_type": "code",
   "execution_count": 13,
   "metadata": {},
   "outputs": [],
   "source": [
    "import pandas as pd\n",
    "import matplotlib.pyplot as plt\n",
    "from keras.utils.np_utils import to_categorical\n",
    "from sklearn.model_selection import train_test_split\n",
    "from keras.models import Sequential\n",
    "from keras.layers import Dense,Dropout,Flatten,Conv2D,MaxPool2D\n",
    "from keras.optimizers import RMSprop\n",
    "from keras.preprocessing.image import ImageDataGenerator"
   ]
  },
  {
   "cell_type": "code",
   "execution_count": 14,
   "metadata": {},
   "outputs": [],
   "source": [
    "train = pd.read_csv(\"D://Verzeo//Digit Recognition//train.csv\")\n",
    "test = pd.read_csv(\"D://Verzeo//Digit Recognition//test.csv\")"
   ]
  },
  {
   "cell_type": "code",
   "execution_count": 15,
   "metadata": {},
   "outputs": [],
   "source": [
    "#train"
   ]
  },
  {
   "cell_type": "code",
   "execution_count": 16,
   "metadata": {},
   "outputs": [],
   "source": [
    "y = train['label']\n",
    "x = train.drop(labels = ['label'],axis = 1)"
   ]
  },
  {
   "cell_type": "code",
   "execution_count": 17,
   "metadata": {},
   "outputs": [],
   "source": [
    "x = x.values.reshape(-1, 28, 28, 1)\n",
    "test = test.values.reshape(-1, 28, 28, 1)"
   ]
  },
  {
   "cell_type": "code",
   "execution_count": 18,
   "metadata": {},
   "outputs": [],
   "source": [
    "#image_index = 1\n",
    "#print(x[image_index])\n",
    "#plt.imshow(y[image_index], cmap = 'Greys')\n",
    "#plt.show()"
   ]
  },
  {
   "cell_type": "code",
   "execution_count": 19,
   "metadata": {},
   "outputs": [],
   "source": [
    "y = to_categorical(y, num_classes=10)"
   ]
  },
  {
   "cell_type": "code",
   "execution_count": 20,
   "metadata": {},
   "outputs": [],
   "source": [
    "x_training, x_validation, y_training, y_validation = train_test_split(x,y,test_size=0.1,\n",
    "                                                                      shuffle=True)"
   ]
  },
  {
   "cell_type": "markdown",
   "metadata": {},
   "source": [
    "#Model"
   ]
  },
  {
   "cell_type": "code",
   "execution_count": 21,
   "metadata": {},
   "outputs": [],
   "source": [
    "model = Sequential()"
   ]
  },
  {
   "cell_type": "code",
   "execution_count": 22,
   "metadata": {},
   "outputs": [],
   "source": [
    "model.add(Conv2D(filters=32,kernel_size=(5,5),padding='Same',\n",
    "                 activation='relu', input_shape=(28,28,1)))\n",
    "model.add(Conv2D(filters=32,kernel_size=(5,5),padding='Same',\n",
    "                activation='relu'))\n",
    "model.add(MaxPool2D(pool_size=(2,2)))\n",
    "model.add(Dropout(0.5))\n",
    "\n",
    "model.add(Conv2D(filters=64, kernel_size=(3,3),padding='Same', \n",
    "                 activation='relu'))\n",
    "model.add(Conv2D(filters=64, kernel_size=(3,3),padding='Same', \n",
    "                 activation='relu'))\n",
    "model.add(MaxPool2D(pool_size=(2,2), strides=(2,2)))\n",
    "model.add(Dropout(0.5))\n",
    "\n",
    "model.add(Flatten())\n",
    "model.add(Dense(8192, activation='relu'))\n",
    "model.add(Dropout(0.5))\n",
    "\n",
    "model.add(Dense(2048, activation='relu'))\n",
    "model.add(Dropout(0.5))\n",
    "\n",
    "model.add(Dense(10, activation=\"softmax\"))"
   ]
  },
  {
   "cell_type": "code",
   "execution_count": 23,
   "metadata": {},
   "outputs": [],
   "source": [
    "model.compile(optimizer=RMSprop(lr=0.0001,\n",
    "                                rho=0.9,\n",
    "                                epsilon=1e-08,\n",
    "                                decay=0.00001),\n",
    "              loss=\"categorical_crossentropy\",\n",
    "              metrics=[\"accuracy\"])"
   ]
  },
  {
   "cell_type": "code",
   "execution_count": 24,
   "metadata": {},
   "outputs": [],
   "source": [
    "data_generator = ImageDataGenerator(rescale=1./255,\n",
    "                                    rotation_range=1,\n",
    "                                    zoom_range=0.1, \n",
    "                                    width_shift_range=0.05,\n",
    "                                    height_shift_range=0.05)\n",
    "data_generator.fit(x_training)"
   ]
  },
  {
   "cell_type": "code",
   "execution_count": 12,
   "metadata": {
    "scrolled": true
   },
   "outputs": [
    {
     "name": "stdout",
     "output_type": "stream",
     "text": [
      "WARNING:tensorflow:From <ipython-input-12-acce78bf1f7b>:1: Model.fit_generator (from tensorflow.python.keras.engine.training) is deprecated and will be removed in a future version.\n",
      "Instructions for updating:\n",
      "Please use Model.fit, which supports generators.\n",
      "Epoch 1/20\n",
      "73/73 [==============================] - 71s 966ms/step - loss: 1.4457 - accuracy: 0.5064 - val_loss: 60.2921 - val_accuracy: 0.7788\n",
      "Epoch 2/20\n",
      "73/73 [==============================] - 70s 959ms/step - loss: 0.7029 - accuracy: 0.7673 - val_loss: 24.0700 - val_accuracy: 0.9248\n",
      "Epoch 3/20\n",
      "73/73 [==============================] - 70s 961ms/step - loss: 0.4236 - accuracy: 0.8629 - val_loss: 16.2053 - val_accuracy: 0.9517\n",
      "Epoch 4/20\n",
      "73/73 [==============================] - 70s 963ms/step - loss: 0.2865 - accuracy: 0.9102 - val_loss: 17.5587 - val_accuracy: 0.9538\n",
      "Epoch 5/20\n",
      "73/73 [==============================] - 70s 962ms/step - loss: 0.2279 - accuracy: 0.9295 - val_loss: 15.2862 - val_accuracy: 0.9650\n",
      "Epoch 6/20\n",
      "73/73 [==============================] - 70s 960ms/step - loss: 0.1973 - accuracy: 0.9384 - val_loss: 12.4957 - val_accuracy: 0.9731\n",
      "Epoch 7/20\n",
      "73/73 [==============================] - 70s 960ms/step - loss: 0.1700 - accuracy: 0.9487 - val_loss: 12.0196 - val_accuracy: 0.9748\n",
      "Epoch 8/20\n",
      "73/73 [==============================] - 70s 963ms/step - loss: 0.1622 - accuracy: 0.9486 - val_loss: 10.4706 - val_accuracy: 0.9762\n",
      "Epoch 9/20\n",
      "73/73 [==============================] - 70s 961ms/step - loss: 0.1444 - accuracy: 0.9535 - val_loss: 10.6959 - val_accuracy: 0.9755\n",
      "Epoch 10/20\n",
      "73/73 [==============================] - 70s 960ms/step - loss: 0.1424 - accuracy: 0.9569 - val_loss: 10.5294 - val_accuracy: 0.9798\n",
      "Epoch 11/20\n",
      "73/73 [==============================] - 70s 963ms/step - loss: 0.1238 - accuracy: 0.9625 - val_loss: 8.2887 - val_accuracy: 0.9788\n",
      "Epoch 12/20\n",
      "73/73 [==============================] - 71s 966ms/step - loss: 0.1088 - accuracy: 0.9667 - val_loss: 9.3664 - val_accuracy: 0.9807\n",
      "Epoch 13/20\n",
      "73/73 [==============================] - 70s 961ms/step - loss: 0.1104 - accuracy: 0.9655 - val_loss: 9.8847 - val_accuracy: 0.9810\n",
      "Epoch 14/20\n",
      "73/73 [==============================] - 70s 963ms/step - loss: 0.1006 - accuracy: 0.9681 - val_loss: 8.2083 - val_accuracy: 0.9817\n",
      "Epoch 15/20\n",
      "73/73 [==============================] - 70s 961ms/step - loss: 0.0958 - accuracy: 0.9681 - val_loss: 11.4999 - val_accuracy: 0.9810\n",
      "Epoch 16/20\n",
      "73/73 [==============================] - 70s 961ms/step - loss: 0.0913 - accuracy: 0.9698 - val_loss: 8.3156 - val_accuracy: 0.9833\n",
      "Epoch 17/20\n",
      "73/73 [==============================] - 70s 961ms/step - loss: 0.0904 - accuracy: 0.9716 - val_loss: 10.4416 - val_accuracy: 0.9807\n",
      "Epoch 18/20\n",
      "73/73 [==============================] - 70s 961ms/step - loss: 0.0907 - accuracy: 0.9718 - val_loss: 8.0200 - val_accuracy: 0.9848\n",
      "Epoch 19/20\n",
      "73/73 [==============================] - 70s 960ms/step - loss: 0.0861 - accuracy: 0.9738 - val_loss: 7.4078 - val_accuracy: 0.9864\n",
      "Epoch 20/20\n",
      "73/73 [==============================] - 70s 961ms/step - loss: 0.0821 - accuracy: 0.9746 - val_loss: 7.8454 - val_accuracy: 0.9848\n"
     ]
    },
    {
     "data": {
      "text/plain": [
       "<tensorflow.python.keras.callbacks.History at 0x133aa2db2e0>"
      ]
     },
     "execution_count": 12,
     "metadata": {},
     "output_type": "execute_result"
    }
   ],
   "source": [
    "model.fit_generator(data_generator.flow(x_training,\n",
    "                                                  y_training,\n",
    "                                                  batch_size=152),\n",
    "                              epochs=20,\n",
    "                              validation_data=(x_validation, y_validation),\n",
    "                              verbose=1,\n",
    "                              steps_per_epoch=x_training.shape[0] // 512)"
   ]
  },
  {
   "cell_type": "code",
   "execution_count": 27,
   "metadata": {},
   "outputs": [
    {
     "name": "stdout",
     "output_type": "stream",
     "text": [
      "875/875 [==============================] - 27s 31ms/step\n"
     ]
    }
   ],
   "source": [
    "predictions = model.predict_classes(test, verbose=1)\n",
    "pd.DataFrame({\"ImageId\":list(range(1,len(predictions)+1)),\"Label\":predictions}).to_csv(\"D://Verzeo//Digit Recognition//sample_submission.csv\",index=False,header=True)"
   ]
  },
  {
   "cell_type": "code",
   "execution_count": 28,
   "metadata": {},
   "outputs": [
    {
     "data": {
      "text/plain": [
       "array([2, 0, 9, ..., 3, 9, 2], dtype=int64)"
      ]
     },
     "execution_count": 28,
     "metadata": {},
     "output_type": "execute_result"
    }
   ],
   "source": [
    "predictions"
   ]
  },
  {
   "cell_type": "code",
   "execution_count": null,
   "metadata": {},
   "outputs": [],
   "source": []
  },
  {
   "cell_type": "code",
   "execution_count": 26,
   "metadata": {},
   "outputs": [],
   "source": []
  },
  {
   "cell_type": "code",
   "execution_count": null,
   "metadata": {},
   "outputs": [],
   "source": []
  }
 ],
 "metadata": {
  "kernelspec": {
   "display_name": "Python 3",
   "language": "python",
   "name": "python3"
  },
  "language_info": {
   "codemirror_mode": {
    "name": "ipython",
    "version": 3
   },
   "file_extension": ".py",
   "mimetype": "text/x-python",
   "name": "python",
   "nbconvert_exporter": "python",
   "pygments_lexer": "ipython3",
   "version": "3.8.3"
  }
 },
 "nbformat": 4,
 "nbformat_minor": 4
}
